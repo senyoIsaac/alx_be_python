{
 "cells": [
  {
   "cell_type": "code",
   "execution_count": 15,
   "id": "2030077c",
   "metadata": {},
   "outputs": [],
   "source": [
    "class Planets():\n",
    "    def __init__(self,PlanetName):\n",
    "        self.PlanetName = PlanetName\n",
    "       \n",
    "        # cannot issue a return statement in this area\n",
    "\n",
    "    def __str__(self):\n",
    "        return f\"Planet Name: {self.PlanetName}\""
   ]
  },
  {
   "cell_type": "code",
   "execution_count": 16,
   "id": "479ecabb",
   "metadata": {},
   "outputs": [
    {
     "name": "stdout",
     "output_type": "stream",
     "text": [
      "Planet Name: Earth\n"
     ]
    }
   ],
   "source": [
    "planet3 = Planets(\"Earth\")\n",
    "print(planet3)"
   ]
  },
  {
   "cell_type": "code",
   "execution_count": null,
   "id": "bd6d7448",
   "metadata": {},
   "outputs": [],
   "source": [
    "class continents(Planets):\n",
    "    def __init__(self,PlanetName,continentName):\n",
    "        super().__init__(PlanetName)\n",
    "        self.continentName = continentName\n"
   ]
  }
 ],
 "metadata": {
  "kernelspec": {
   "display_name": "Python 3",
   "language": "python",
   "name": "python3"
  },
  "language_info": {
   "codemirror_mode": {
    "name": "ipython",
    "version": 3
   },
   "file_extension": ".py",
   "mimetype": "text/x-python",
   "name": "python",
   "nbconvert_exporter": "python",
   "pygments_lexer": "ipython3",
   "version": "3.11.9"
  }
 },
 "nbformat": 4,
 "nbformat_minor": 5
}
